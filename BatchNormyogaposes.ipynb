{
  "cells": [
    {
      "cell_type": "markdown",
      "metadata": {
        "id": "mZrXdDyVzoWj"
      },
      "source": [
        "## Detect Yoga Poses: Encoder using MoveNet"
      ]
    },
    {
      "cell_type": "markdown",
      "metadata": {
        "id": "W0v_oP4Az6EP"
      },
      "source": [
        "**[MoveNet](https://t.co/QpfnVL0YYI?amp=1)** is an ultra fast and accurate model that detects 17 keypoints of a body. The model is offered on [TF Hub](https://tfhub.dev/s?q=movenet) with two variants, known as Lightning and Thunder. Lightning is intended for latency-critical applications, while Thunder is intended for applications that require high accuracy. Both models run faster than real time (30+ FPS) on most modern desktops, laptops, and phones, which proves crucial for live fitness, health, and wellness applications.\n",
        "\n",
        "\n",
        "<img src=\"https://github.com/robotengineer123/YogaPoseClassifier/blob/main/StandingSplits/Standing_Splits_100.jpg?raw=true\" alt=\"drawing\"/>\n",
        "\n",
        "This Colab walks you through the details of how to load MoveNet, and run inference on the input image and video below.\n",
        "\n",
        "Note: check out the [live demo](https://storage.googleapis.com/tfjs-models/demos/pose-detection/index.html?model=movenet) for how the model works!\n",
        "\n",
        "Next step is visualization"
      ]
    },
    {
      "cell_type": "code",
      "execution_count": 3,
      "metadata": {
        "id": "cuiC24gN1-Ps"
      },
      "outputs": [],
      "source": [
        "import tensorflow as tf\n",
        "import tensorflow_hub as hub\n",
        "import numpy as np\n",
        "import keras\n",
        "import cv2\n",
        "\n",
        "# Import matplotlib libraries\n",
        "from matplotlib import pyplot as plt\n",
        "from matplotlib.collections import LineCollection\n",
        "import matplotlib.patches as patches\n",
        "import os\n",
        "import zipfile\n",
        "import pandas as pd\n",
        "\n",
        "# Some modules to display an animation using imageio.\n",
        "from IPython.display import HTML, display"
      ]
    },
    {
      "cell_type": "markdown",
      "metadata": {
        "id": "zHXsb08A2E63"
      },
      "source": [
        "## Helper functions"
      ]
    },
    {
      "cell_type": "code",
      "execution_count": 4,
      "metadata": {
        "id": "1D56XtEJ2SON"
      },
      "outputs": [],
      "source": [
        "model_name = \"movenet_lightning\" \n",
        "\n",
        "if \"tflite\" in model_name:\n",
        "  if \"movenet_lightning_f16\" in model_name:\n",
        "    !wget -q -O model.tflite https://tfhub.dev/google/lite-model/movenet/singlepose/lightning/tflite/float16/4?lite-format=tflite\n",
        "    input_size = 192\n",
        "  elif \"movenet_thunder_f16\" in model_name:\n",
        "    !wget -q -O model.tflite https://tfhub.dev/google/lite-model/movenet/singlepose/thunder/tflite/float16/4?lite-format=tflite\n",
        "    input_size = 256\n",
        "  elif \"movenet_lightning_int8\" in model_name:\n",
        "    !wget -q -O model.tflite https://tfhub.dev/google/lite-model/movenet/singlepose/lightning/tflite/int8/4?lite-format=tflite\n",
        "    input_size = 192\n",
        "  elif \"movenet_thunder_int8\" in model_name:\n",
        "    !wget -q -O model.tflite https://tfhub.dev/google/lite-model/movenet/singlepose/thunder/tflite/int8/4?lite-format=tflite\n",
        "    input_size = 256\n",
        "  else:\n",
        "    raise ValueError(\"Unsupported model name: %s\" % model_name)\n",
        "\n",
        "  # Initialize the TFLite interpreter\n",
        "  interpreter = tf.lite.Interpreter(model_path=\"model.tflite\")\n",
        "  interpreter.allocate_tensors()\n",
        "\n",
        "  def movenet(input_image):\n",
        "    \"\"\"Runs detection on an input image.\n",
        "\n",
        "    Args:\n",
        "      input_image: A [1, height, width, 3] tensor represents the input image\n",
        "        pixels. Note that the height/width should already be resized and match the\n",
        "        expected input resolution of the model before passing into this function.\n",
        "\n",
        "    Returns:\n",
        "      A [1, 1, 17, 3] float numpy array representing the predicted keypoint\n",
        "      coordinates and scores.\n",
        "    \"\"\"\n",
        "    # TF Lite format expects tensor type of uint8.\n",
        "    input_image = tf.cast(input_image, dtype=tf.uint8)\n",
        "    input_details = interpreter.get_input_details()\n",
        "    output_details = interpreter.get_output_details()\n",
        "    interpreter.set_tensor(input_details[0]['index'], input_image.numpy())\n",
        "    # Invoke inference.\n",
        "    interpreter.invoke()\n",
        "    # Get the model prediction.\n",
        "    keypoints_with_scores = interpreter.get_tensor(output_details[0]['index'])\n",
        "    return keypoints_with_scores\n",
        "\n",
        "else:\n",
        "  if \"movenet_lightning\" in model_name:\n",
        "    module = hub.load(\"https://tfhub.dev/google/movenet/singlepose/lightning/4\")\n",
        "    input_size = 192\n",
        "  elif \"movenet_thunder\" in model_name:\n",
        "    module = hub.load(\"https://tfhub.dev/google/movenet/singlepose/thunder/4\")\n",
        "    input_size = 256\n",
        "  else:\n",
        "    raise ValueError(\"Unsupported model name: %s\" % model_name)\n",
        "\n",
        "  def movenet(input_image):\n",
        "    \"\"\"Runs detection on an input image.\n",
        "\n",
        "    Args:\n",
        "      input_image: A [1, height, width, 3] tensor represents the input image\n",
        "        pixels. Note that the height/width should already be resized and match the\n",
        "        expected input resolution of the model before passing into this function.\n",
        "\n",
        "    Returns:\n",
        "      A [1, 1, 17, 3] float numpy array representing the predicted keypoint\n",
        "      coordinates and scores.\n",
        "    \"\"\"\n",
        "    model = module.signatures['serving_default']\n",
        "    #print(\"model: \", model)\n",
        "\n",
        "    # SavedModel format expects tensor type of int32.\n",
        "    input_image = tf.cast(input_image, dtype=tf.int32)\n",
        "    # Run model inference.\n",
        "    outputs = model(input_image)\n",
        "    #print(\"outputs: \", outputs)\n",
        "    # Output is a [1, 1, 17, 3] tensor.\n",
        "    keypoints_with_scores = outputs['output_0'].numpy()\n",
        "    #print(\"Keypoints: \", keypoints_with_scores)\n",
        "    return keypoints_with_scores"
      ]
    },
    {
      "cell_type": "markdown",
      "metadata": {
        "id": "rbyhpixWJF6z"
      },
      "source": [
        "## Test encoder on own dataset"
      ]
    },
    {
      "cell_type": "markdown",
      "metadata": {
        "id": "8Jtn-Y8iI7F_"
      },
      "source": [
        "Get data from github"
      ]
    },
    {
      "cell_type": "code",
      "execution_count": null,
      "metadata": {},
      "outputs": [],
      "source": [
        "def remove_corrupt():\n",
        "    dpath = \"dataset\"\n",
        "    for folder in os.listdir(dpath):\n",
        "        for f in os.listdir(dpath+\"/\"+folder):\n",
        "            image_path = dpath+\"/\"+folder+\"/\"+f\n",
        "            try: \n",
        "                image = tf.io.read_file(image_path)\n",
        "                image = tf.image.decode_jpeg(image, channels=3)\n",
        "            except:\n",
        "                os.remove(image_path)\n",
        "                print(\"removed file: \"+image_path)\n",
        "# remove_corrupt()"
      ]
    },
    {
      "cell_type": "code",
      "execution_count": null,
      "metadata": {},
      "outputs": [
        {
          "name": "stdout",
          "output_type": "stream",
          "text": [
            "Found 2382 files belonging to 9 classes.\n",
            "Using 1906 files for training.\n",
            "Found 2382 files belonging to 9 classes.\n",
            "Using 476 files for validation.\n",
            "WARNING:tensorflow:Using a while_loop for converting RngReadAndSkip\n"
          ]
        },
        {
          "name": "stderr",
          "output_type": "stream",
          "text": [
            "WARNING:tensorflow:Using a while_loop for converting RngReadAndSkip\n"
          ]
        },
        {
          "name": "stdout",
          "output_type": "stream",
          "text": [
            "WARNING:tensorflow:Using a while_loop for converting Bitcast\n"
          ]
        },
        {
          "name": "stderr",
          "output_type": "stream",
          "text": [
            "WARNING:tensorflow:Using a while_loop for converting Bitcast\n"
          ]
        },
        {
          "name": "stdout",
          "output_type": "stream",
          "text": [
            "WARNING:tensorflow:Using a while_loop for converting Bitcast\n"
          ]
        },
        {
          "name": "stderr",
          "output_type": "stream",
          "text": [
            "WARNING:tensorflow:Using a while_loop for converting Bitcast\n"
          ]
        },
        {
          "name": "stdout",
          "output_type": "stream",
          "text": [
            "WARNING:tensorflow:Using a while_loop for converting StatelessRandomUniformFullIntV2\n"
          ]
        },
        {
          "name": "stderr",
          "output_type": "stream",
          "text": [
            "WARNING:tensorflow:Using a while_loop for converting StatelessRandomUniformFullIntV2\n"
          ]
        },
        {
          "name": "stdout",
          "output_type": "stream",
          "text": [
            "WARNING:tensorflow:Using a while_loop for converting StatelessRandomGetKeyCounter\n"
          ]
        },
        {
          "name": "stderr",
          "output_type": "stream",
          "text": [
            "WARNING:tensorflow:Using a while_loop for converting StatelessRandomGetKeyCounter\n"
          ]
        },
        {
          "name": "stdout",
          "output_type": "stream",
          "text": [
            "WARNING:tensorflow:Using a while_loop for converting StatelessRandomUniformV2\n"
          ]
        },
        {
          "name": "stderr",
          "output_type": "stream",
          "text": [
            "WARNING:tensorflow:Using a while_loop for converting StatelessRandomUniformV2\n"
          ]
        },
        {
          "name": "stdout",
          "output_type": "stream",
          "text": [
            "WARNING:tensorflow:Using a while_loop for converting AdjustContrastv2\n"
          ]
        },
        {
          "name": "stderr",
          "output_type": "stream",
          "text": [
            "WARNING:tensorflow:Using a while_loop for converting AdjustContrastv2\n"
          ]
        },
        {
          "name": "stdout",
          "output_type": "stream",
          "text": [
            "WARNING:tensorflow:Using a while_loop for converting RngReadAndSkip\n"
          ]
        },
        {
          "name": "stderr",
          "output_type": "stream",
          "text": [
            "WARNING:tensorflow:Using a while_loop for converting RngReadAndSkip\n"
          ]
        },
        {
          "name": "stdout",
          "output_type": "stream",
          "text": [
            "WARNING:tensorflow:Using a while_loop for converting Bitcast\n"
          ]
        },
        {
          "name": "stderr",
          "output_type": "stream",
          "text": [
            "WARNING:tensorflow:Using a while_loop for converting Bitcast\n"
          ]
        },
        {
          "name": "stdout",
          "output_type": "stream",
          "text": [
            "WARNING:tensorflow:Using a while_loop for converting Bitcast\n"
          ]
        },
        {
          "name": "stderr",
          "output_type": "stream",
          "text": [
            "WARNING:tensorflow:Using a while_loop for converting Bitcast\n"
          ]
        },
        {
          "name": "stdout",
          "output_type": "stream",
          "text": [
            "WARNING:tensorflow:Using a while_loop for converting StatelessRandomUniformFullIntV2\n"
          ]
        },
        {
          "name": "stderr",
          "output_type": "stream",
          "text": [
            "WARNING:tensorflow:Using a while_loop for converting StatelessRandomUniformFullIntV2\n"
          ]
        },
        {
          "name": "stdout",
          "output_type": "stream",
          "text": [
            "WARNING:tensorflow:Using a while_loop for converting StatelessRandomGetKeyCounter\n"
          ]
        },
        {
          "name": "stderr",
          "output_type": "stream",
          "text": [
            "WARNING:tensorflow:Using a while_loop for converting StatelessRandomGetKeyCounter\n"
          ]
        },
        {
          "name": "stdout",
          "output_type": "stream",
          "text": [
            "WARNING:tensorflow:Using a while_loop for converting StatelessRandomUniformV2\n"
          ]
        },
        {
          "name": "stderr",
          "output_type": "stream",
          "text": [
            "WARNING:tensorflow:Using a while_loop for converting StatelessRandomUniformV2\n"
          ]
        },
        {
          "name": "stdout",
          "output_type": "stream",
          "text": [
            "WARNING:tensorflow:Using a while_loop for converting AdjustContrastv2\n"
          ]
        },
        {
          "name": "stderr",
          "output_type": "stream",
          "text": [
            "WARNING:tensorflow:Using a while_loop for converting AdjustContrastv2\n"
          ]
        }
      ],
      "source": [
        "train_ds = tf.keras.utils.image_dataset_from_directory(\n",
        "  \"dataset\",\n",
        "  validation_split=0.2,\n",
        "  subset=\"training\",\n",
        "  seed=123,\n",
        "  batch_size=1,\n",
        "  label_mode='categorical',\n",
        "  shuffle=True)\n",
        "val_ds = tf.keras.utils.image_dataset_from_directory(\n",
        "  \"dataset\",\n",
        "  validation_split=0.2,\n",
        "  subset=\"validation\",\n",
        "  seed=123,\n",
        "  batch_size=1,\n",
        "  label_mode='categorical',\n",
        "  shuffle=True)\n",
        "data_augmentation = tf.keras.Sequential([\n",
        "        tf.keras.layers.RandomFlip(mode='horizontal'), # Horizontally flip the given PIL Image randomly with a given probability. \n",
        "        tf.keras.layers.RandomContrast(0.1), # Randomly change the brightness, contrast and saturation of an image\n",
        "        tf.keras.layers.RandomRotation(0.1), # Rotate the image by angle.\n",
        "        tf.keras.layers.Rescaling(input_size, input_size)\n",
        "        ])\n",
        "class_names =train_ds.class_names\n",
        "augmented_train_ds = train_ds.map(lambda x, y: (data_augmentation(x), y))"
      ]
    },
    {
      "cell_type": "markdown",
      "metadata": {
        "id": "IPqwy4-TKDJT"
      },
      "source": [
        "Generate dataset"
      ]
    },
    {
      "cell_type": "code",
      "execution_count": null,
      "metadata": {
        "colab": {
          "base_uri": "https://localhost:8080/"
        },
        "id": "HbrJDfRdKELi",
        "outputId": "22767a8c-9053-4faa-e36e-830fa17742a4"
      },
      "outputs": [],
      "source": [
        "def GenerateFeatureDS(ds):\n",
        "  keypoints_with_scores = []\n",
        "  y = []\n",
        "\n",
        "  for i, (image, true_class) in zip(range(len(ds)), ds.as_numpy_iterator()): \n",
        "    # Resize and pad the image to keep the aspect ratio and fit the expected size.\n",
        "    input_image = tf.image.resize_with_pad(image, input_size, input_size)\n",
        "\n",
        "    # Run model inference.\n",
        "    keypoints_with_scores.append(movenet(input_image).flatten())\n",
        "    y.append(true_class.flatten())\n",
        "  return tf.data.Dataset.from_tensor_slices((keypoints_with_scores, y))\n",
        "\n",
        "train_ds = GenerateFeatureDS(train_ds)\n",
        "val_ds = GenerateFeatureDS(val_ds)\n",
        "augmented_train_ds = GenerateFeatureDS(augmented_train_ds)"
      ]
    },
    {
      "cell_type": "markdown",
      "metadata": {
        "id": "ilUlj_Deg8jC"
      },
      "source": [
        "## Classification"
      ]
    },
    {
      "cell_type": "code",
      "execution_count": null,
      "metadata": {
        "id": "wSTIGbUmqdoq"
      },
      "outputs": [],
      "source": [
        "def get_center_point(landmarks, left_bodypart, right_bodypart):\n",
        "  \"\"\"Calculates the center point of the two given landmarks.\"\"\"\n",
        "\n",
        "  left = tf.gather(landmarks, left_bodypart, axis=1)\n",
        "  right = tf.gather(landmarks, right_bodypart, axis=1)\n",
        "  center = left * 0.5 + right * 0.5\n",
        "  return center\n",
        "\n",
        "\n",
        "def get_pose_size(landmarks, torso_size_multiplier=2.5):\n",
        "  \"\"\"Calculates pose size.\n",
        "\n",
        "  It is the maximum of two values:\n",
        "    * Torso size multiplied by `torso_size_multiplier`\n",
        "    * Maximum distance from pose center to any pose landmark\n",
        "  \"\"\"\n",
        "  # Hips center\n",
        "  hips_center = get_center_point(landmarks, 11, \n",
        "                                 12)\n",
        "\n",
        "  # Shoulders center\n",
        "  shoulders_center = get_center_point(landmarks, 5,\n",
        "                                      6)\n",
        "\n",
        "  # Torso size as the minimum body size\n",
        "  torso_size = tf.linalg.norm(shoulders_center - hips_center)\n",
        "\n",
        "  # Pose center\n",
        "  pose_center_new = get_center_point(landmarks, 11, \n",
        "                                     12)\n",
        "  pose_center_new = tf.expand_dims(pose_center_new, axis=1)\n",
        "  # Broadcast the pose center to the same size as the landmark vector to\n",
        "  # perform substraction\n",
        "  pose_center_new = tf.broadcast_to(pose_center_new,\n",
        "                                    [tf.size(landmarks) // (17*2), 17, 2])\n",
        "\n",
        "  # Dist to pose center\n",
        "  d = tf.gather(landmarks - pose_center_new, 0, axis=0,\n",
        "                name=\"dist_to_pose_center\")\n",
        "  # Max dist to pose center\n",
        "  max_dist = tf.reduce_max(tf.linalg.norm(d, axis=0))\n",
        "\n",
        "  # Normalize scale\n",
        "  pose_size = tf.maximum(torso_size * torso_size_multiplier, max_dist)\n",
        "\n",
        "  return pose_size\n",
        "\n",
        "\n",
        "def normalize_pose_landmarks(landmarks):\n",
        "  \"\"\"Normalizes the landmarks translation by moving the pose center to (0,0) and\n",
        "  scaling it to a constant pose size.\n",
        "  \"\"\"\n",
        "  # Move landmarks so that the pose center becomes (0,0)\n",
        "  pose_center = get_center_point(landmarks, 11, \n",
        "                                 12)\n",
        "  pose_center = tf.expand_dims(pose_center, axis=1)\n",
        "  # Broadcast the pose center to the same size as the landmark vector to perform\n",
        "  # substraction\n",
        "  pose_center = tf.broadcast_to(pose_center, \n",
        "                                [tf.size(landmarks) // (17*2), 17, 2])\n",
        "  landmarks = landmarks - pose_center\n",
        "\n",
        "  # Scale the landmarks to a constant pose size\n",
        "  pose_size = get_pose_size(landmarks)\n",
        "  landmarks /= pose_size\n",
        "\n",
        "  return landmarks\n",
        "\n",
        "\n",
        "def landmarks_to_embedding(landmarks_and_scores):\n",
        "  \"\"\"Converts the input landmarks into a pose embedding.\"\"\"\n",
        "  # Reshape the flat input into a matrix with shape=(17, 3)\n",
        "  reshaped_inputs = keras.layers.Reshape((17, 3))(landmarks_and_scores)\n",
        "\n",
        "  # Normalize landmarks 2D\n",
        "  landmarks = normalize_pose_landmarks(reshaped_inputs[:, :, :2])\n",
        "\n",
        "  # Flatten the normalized landmark coordinates into a vector\n",
        "  embedding = keras.layers.Flatten()(landmarks)\n",
        "\n",
        "  return embedding"
      ]
    },
    {
      "cell_type": "code",
      "execution_count": null,
      "metadata": {
        "id": "hj0DorkkKpub"
      },
      "outputs": [],
      "source": [
        "def landmarks_to_embedding(landmarks_and_scores):\n",
        "  \"\"\"Converts the input landmarks into a pose embedding.\"\"\"\n",
        "  # Reshape the flat input into a matrix with shape=(17, 3)\n",
        "  reshaped_inputs = keras.layers.Reshape((17, 3))(landmarks_and_scores)\n",
        "\n",
        "  # Normalize landmarks 2D\n",
        "  landmarks = normalize_pose_landmarks(reshaped_inputs[:, :, :2])\n",
        "\n",
        "  # Flatten the normalized landmark coordinates into a vector\n",
        "  embedding = keras.layers.Flatten()(reshaped_inputs)\n",
        "\n",
        "  return embedding"
      ]
    },
    {
      "cell_type": "markdown",
      "metadata": {
        "id": "ZoWJ9Zh_GtDZ"
      },
      "source": [
        "## Basic model"
      ]
    },
    {
      "cell_type": "code",
      "execution_count": null,
      "metadata": {
        "id": "qdzjV4Z6Gvp9"
      },
      "outputs": [],
      "source": [
        "# Define the model \n",
        "def basic_Model():\n",
        "  inputs = tf.keras.Input(shape=(51))\n",
        "  embedding = landmarks_to_embedding(inputs)\n",
        "\n",
        "  layer = keras.layers.Dense(128, activation=tf.nn.relu6)(embedding)\n",
        "  layer = keras.layers.Dense(64, activation=tf.nn.relu6)(layer)\n",
        "  outputs = keras.layers.Dense(len(class_names), activation=\"softmax\")(layer)\n",
        "\n",
        "  model = keras.Model(inputs, outputs)\n",
        "  model.compile(\n",
        "      optimizer='adam',\n",
        "      loss='categorical_crossentropy',\n",
        "      metrics=['accuracy']\n",
        "  )\n",
        "  return model\n",
        "\n",
        "\n",
        "#model.summary()"
      ]
    },
    {
      "cell_type": "markdown",
      "metadata": {
        "id": "2aYMvFdbQtrh"
      },
      "source": [
        "## basic model with dropout"
      ]
    },
    {
      "cell_type": "code",
      "execution_count": 9,
      "metadata": {
        "id": "VY54xAflKxa6"
      },
      "outputs": [],
      "source": [
        "# Define the model \n",
        "def DO_Model(DOfrac):\n",
        "  inputs = tf.keras.Input(shape=(51))\n",
        "  embedding = landmarks_to_embedding(inputs)\n",
        "\n",
        "  layer = keras.layers.Dense(128, activation=tf.nn.relu6)(embedding)\n",
        "  layer = keras.layers.Dropout(DOfrac)(layer)\n",
        "  layer = keras.layers.Dense(64, activation=tf.nn.relu6)(layer)\n",
        "  layer = keras.layers.Dropout(DOfrac)(layer)\n",
        "  outputs = keras.layers.Dense(len(class_names), activation=\"softmax\")(layer)\n",
        "\n",
        "  model = keras.Model(inputs, outputs)\n",
        "  model.compile(\n",
        "      optimizer='adam',\n",
        "      loss='categorical_crossentropy',\n",
        "      metrics=['accuracy']\n",
        "  )\n",
        "  return model"
      ]
    },
    {
      "cell_type": "markdown",
      "metadata": {
        "id": "wEVlFFQRRH4Q"
      },
      "source": [
        "## Basic model with batch normalization"
      ]
    },
    {
      "cell_type": "code",
      "execution_count": 10,
      "metadata": {
        "id": "gvHB_M_PRMEU"
      },
      "outputs": [],
      "source": [
        "def BN_Model():\n",
        "  inputs = tf.keras.Input(shape=(51))\n",
        "  embedding = landmarks_to_embedding(inputs)\n",
        "\n",
        "  layer = keras.layers.Dense(128)(embedding)\n",
        "  layer = tf.keras.layers.BatchNormalization()(layer)\n",
        "  layer = keras.layers.Activation(activation=tf.nn.relu6)(layer)\n",
        "  layer = keras.layers.Dense(64)(layer)\n",
        "  layer = tf.keras.layers.BatchNormalization()(layer)\n",
        "  layer = keras.layers.Activation(activation=tf.nn.relu6)(layer)\n",
        "  layer = keras.layers.Dense(len(class_names))(layer)\n",
        "  layer = tf.keras.layers.BatchNormalization()(layer)\n",
        "  outputs = keras.layers.Activation(activation=\"softmax\")(layer)\n",
        "\n",
        "  model = keras.Model(inputs, outputs)\n",
        "\n",
        "  model.compile(\n",
        "      optimizer='adam',\n",
        "      loss='categorical_crossentropy',\n",
        "      metrics=['accuracy']\n",
        "  )\n",
        "  return model\n"
      ]
    },
    {
      "cell_type": "code",
      "execution_count": 25,
      "metadata": {
        "id": "PzfyTqUYb-Gd"
      },
      "outputs": [],
      "source": [
        "# Visualize the training history to see whether you're overfitting.\n",
        "def plot_models(histories, model_names):\n",
        "\n",
        "  fig, axs = plt.subplots(1,2, figsize=(24,8))\n",
        "  axs[0].set_title('Model accuracy')\n",
        "  axs[0].set_ylabel('accuracy')\n",
        "  axs[0].set_xlabel('epoch')\n",
        "  axs[1].set_title('Model loss')\n",
        "  axs[1].set_ylabel('loss')\n",
        "  axs[1].set_xlabel('epoch')\n",
        "  for history, name in zip(histories,model_names):\n",
        "\n",
        "    #axs[0].plot(history.history['accuracy'], label='TRAIN '+name)\n",
        "    axs[0].plot(history.history['val_accuracy'], label='VAL '+name)\n",
        "    axs[0].legend(loc='lower right')\n",
        "\n",
        "    #axs[1].plot(history.history['loss'], label='TRAIN '+name)\n",
        "    axs[1].plot(history.history['val_loss'], label='VAL '+name)\n",
        "    axs[1].legend(loc='upper right')\n",
        "\n",
        "  plt.show()\n",
        "\n",
        "def train(model, train_ds):\n",
        "  # Add a checkpoint callback to store the checkpoint that has the highest\n",
        "  # validation accuracy.\n",
        "  '''   checkpoint_path = \"weights.best.hdf5\"\n",
        "    checkpoint = keras.callbacks.ModelCheckpoint(checkpoint_path,\n",
        "                                monitor='val_accuracy',\n",
        "                                verbose=1,\n",
        "                                save_best_only=True,\n",
        "                                mode='max') '''\n",
        "  earlystopping = keras.callbacks.EarlyStopping(monitor='val_accuracy', \n",
        "                                                patience=20)\n",
        "\n",
        "  # Start training\n",
        "  history = model.fit(train_ds.batch(16),\n",
        "                      epochs=200,\n",
        "                      validation_data=val_ds.batch(16),\n",
        "                      verbose=0,\n",
        "                      callbacks=[earlystopping])\n",
        "  return history"
      ]
    },
    {
      "cell_type": "code",
      "execution_count": 30,
      "metadata": {
        "id": "w4XOOuQiEMdY"
      },
      "outputs": [],
      "source": [
        "bn_model = BN_Model()\n",
        "do_models = [DO_Model(0.1), DO_Model(0.3), DO_Model(0.5)]\n",
        "do_labels = [\"Dropout=0.1\", \"Dropout=0.3\", \"Dropout=0.5\"]\n",
        "basic_model = basic_Model()"
      ]
    },
    {
      "cell_type": "code",
      "execution_count": 31,
      "metadata": {
        "id": "7ldtbPuVuLaR"
      },
      "outputs": [],
      "source": [
        "models = {\"models\": [basic_model, bn_model, *do_models],\n",
        "          \"labels\": [\"Basic\", \"BatchNormalization\", *do_labels]}\n",
        "models['models'].append(basic_Model())\n",
        "models['labels'].append('Augmented data basic')"
      ]
    },
    {
      "cell_type": "code",
      "execution_count": 33,
      "metadata": {
        "id": "JZ4fcepZdRnU"
      },
      "outputs": [
        {
          "data": {
            "text/plain": [
              "<keras.callbacks.History at 0x1b3be384760>"
            ]
          },
          "execution_count": 33,
          "metadata": {},
          "output_type": "execute_result"
        }
      ],
      "source": [
        "bn_hist = train(bn_model, train_ds)\n",
        "do_hists = [train(x, train_ds) for x in do_models]\n",
        "basic_hist = train(basic_model, train_ds)\n",
        "train(models['models'][-1], augmented_train_ds)\n"
      ]
    },
    {
      "cell_type": "code",
      "execution_count": null,
      "metadata": {
        "colab": {
          "base_uri": "https://localhost:8080/",
          "height": 414
        },
        "id": "SL6RJJVsdfpM",
        "outputId": "874dd933-8974-46f2-9644-feac8df0992c"
      },
      "outputs": [],
      "source": [
        "#plot_models((bn_hist, basic_hist), (\"BatchNormalization\", \"basic\"))"
      ]
    },
    {
      "cell_type": "code",
      "execution_count": null,
      "metadata": {
        "colab": {
          "base_uri": "https://localhost:8080/",
          "height": 414
        },
        "id": "gaKF9KD6dmgq",
        "outputId": "0547f016-c114-4d5b-d374-4ebd2b6f43aa"
      },
      "outputs": [],
      "source": [
        "#plot_models((*do_hists, basic_hist), (*do_labels, \"Basic\"))"
      ]
    },
    {
      "cell_type": "markdown",
      "metadata": {
        "id": "Ckpbr1a8sJjF"
      },
      "source": [
        "### Test data accuracy"
      ]
    },
    {
      "cell_type": "code",
      "execution_count": 34,
      "metadata": {
        "colab": {
          "base_uri": "https://localhost:8080/",
          "height": 206
        },
        "id": "29-J7YIjsInk",
        "outputId": "cae8eb30-af46-4cc0-bd5c-26c1bf733012"
      },
      "outputs": [
        {
          "data": {
            "text/html": [
              "<div>\n",
              "<style scoped>\n",
              "    .dataframe tbody tr th:only-of-type {\n",
              "        vertical-align: middle;\n",
              "    }\n",
              "\n",
              "    .dataframe tbody tr th {\n",
              "        vertical-align: top;\n",
              "    }\n",
              "\n",
              "    .dataframe thead th {\n",
              "        text-align: right;\n",
              "    }\n",
              "</style>\n",
              "<table border=\"1\" class=\"dataframe\">\n",
              "  <thead>\n",
              "    <tr style=\"text-align: right;\">\n",
              "      <th></th>\n",
              "      <th>Loss</th>\n",
              "      <th>Accuracy</th>\n",
              "    </tr>\n",
              "  </thead>\n",
              "  <tbody>\n",
              "    <tr>\n",
              "      <th>Basic</th>\n",
              "      <td>0.52166</td>\n",
              "      <td>0.85084</td>\n",
              "    </tr>\n",
              "    <tr>\n",
              "      <th>BatchNormalization</th>\n",
              "      <td>0.59593</td>\n",
              "      <td>0.82563</td>\n",
              "    </tr>\n",
              "    <tr>\n",
              "      <th>Dropout=0.1</th>\n",
              "      <td>0.40564</td>\n",
              "      <td>0.86975</td>\n",
              "    </tr>\n",
              "    <tr>\n",
              "      <th>Dropout=0.3</th>\n",
              "      <td>0.43097</td>\n",
              "      <td>0.85504</td>\n",
              "    </tr>\n",
              "    <tr>\n",
              "      <th>Dropout=0.5</th>\n",
              "      <td>0.50067</td>\n",
              "      <td>0.81933</td>\n",
              "    </tr>\n",
              "    <tr>\n",
              "      <th>Augmented data basic</th>\n",
              "      <td>2.09545</td>\n",
              "      <td>0.38445</td>\n",
              "    </tr>\n",
              "  </tbody>\n",
              "</table>\n",
              "</div>"
            ],
            "text/plain": [
              "                         Loss  Accuracy\n",
              "Basic                 0.52166   0.85084\n",
              "BatchNormalization    0.59593   0.82563\n",
              "Dropout=0.1           0.40564   0.86975\n",
              "Dropout=0.3           0.43097   0.85504\n",
              "Dropout=0.5           0.50067   0.81933\n",
              "Augmented data basic  2.09545   0.38445"
            ]
          },
          "execution_count": 34,
          "metadata": {},
          "output_type": "execute_result"
        }
      ],
      "source": [
        "loss = []\n",
        "accuracy = []\n",
        "for model in models['models']:  \n",
        "  l, a = model.evaluate(val_ds.batch(1), verbose=0)\n",
        "  loss.append(round(l,5))\n",
        "  accuracy.append(round(a,5))\n",
        "\n",
        "pd.DataFrame({\"Loss\": loss, \"Accuracy\": accuracy}, models[\"labels\"])"
      ]
    },
    {
      "cell_type": "markdown",
      "metadata": {
        "id": "ghWWgQGmQ80f"
      },
      "source": [
        "## Visualization"
      ]
    },
    {
      "cell_type": "code",
      "execution_count": null,
      "metadata": {
        "id": "VCY7IBbKOU-T"
      },
      "outputs": [
        {
          "ename": "NameError",
          "evalue": "name 'history' is not defined",
          "output_type": "error",
          "traceback": [
            "\u001b[1;31m---------------------------------------------------------------------------\u001b[0m",
            "\u001b[1;31mNameError\u001b[0m                                 Traceback (most recent call last)",
            "Cell \u001b[1;32mIn [18], line 2\u001b[0m\n\u001b[0;32m      1\u001b[0m \u001b[39m# Visualize the training history to see whether you're overfitting.\u001b[39;00m\n\u001b[1;32m----> 2\u001b[0m plt\u001b[39m.\u001b[39mplot(history\u001b[39m.\u001b[39mhistory[\u001b[39m'\u001b[39m\u001b[39maccuracy\u001b[39m\u001b[39m'\u001b[39m])\n\u001b[0;32m      3\u001b[0m plt\u001b[39m.\u001b[39mplot(history\u001b[39m.\u001b[39mhistory[\u001b[39m'\u001b[39m\u001b[39mval_accuracy\u001b[39m\u001b[39m'\u001b[39m])\n\u001b[0;32m      4\u001b[0m plt\u001b[39m.\u001b[39mtitle(\u001b[39m'\u001b[39m\u001b[39mModel accuracy\u001b[39m\u001b[39m'\u001b[39m)\n",
            "\u001b[1;31mNameError\u001b[0m: name 'history' is not defined"
          ]
        }
      ],
      "source": [
        "# Visualize the training history to see whether you're overfitting.\n",
        "plt.plot(history.history['accuracy'])\n",
        "plt.plot(history.history['val_accuracy'])\n",
        "plt.title('Model accuracy')\n",
        "plt.ylabel('accuracy')\n",
        "plt.xlabel('epoch')\n",
        "plt.legend(['TRAIN', 'VAL'], loc='lower right')\n",
        "plt.show()"
      ]
    },
    {
      "cell_type": "code",
      "execution_count": null,
      "metadata": {
        "id": "jGXQ-3jyahQy"
      },
      "outputs": [
        {
          "ename": "",
          "evalue": "",
          "output_type": "error",
          "traceback": [
            "\u001b[1;31mRunning cells with 'Python 3.10.8 ('ML')' requires ipykernel package.\n",
            "\u001b[1;31mRun the following command to install 'ipykernel' into the Python environment. \n",
            "\u001b[1;31mCommand: 'conda install -n ML ipykernel --update-deps --force-reinstall'"
          ]
        }
      ],
      "source": [
        "plt.plot(history.history['loss'])\n",
        "plt.plot(history.history['val_loss'])\n",
        "plt.title('Model accuracy')\n",
        "plt.ylabel('accuracy')\n",
        "plt.xlabel('epoch')\n",
        "plt.legend(['TRAIN', 'VAL'], loc='lower right')\n",
        "plt.show()"
      ]
    },
    {
      "cell_type": "code",
      "execution_count": null,
      "metadata": {
        "id": "ZLxMnDqwOeAA"
      },
      "outputs": [
        {
          "ename": "",
          "evalue": "",
          "output_type": "error",
          "traceback": [
            "\u001b[1;31mRunning cells with 'Python 3.10.8 ('ML')' requires ipykernel package.\n",
            "\u001b[1;31mRun the following command to install 'ipykernel' into the Python environment. \n",
            "\u001b[1;31mCommand: 'conda install -n ML ipykernel --update-deps --force-reinstall'"
          ]
        }
      ],
      "source": [
        "# Evaluate the model using the TEST dataset\n",
        "loss, accuracy = model.evaluate(test_x, test_y)"
      ]
    },
    {
      "cell_type": "code",
      "execution_count": null,
      "metadata": {
        "id": "Vw0PFNKfO4Bt"
      },
      "outputs": [
        {
          "ename": "",
          "evalue": "",
          "output_type": "error",
          "traceback": [
            "\u001b[1;31mRunning cells with 'Python 3.10.8 ('ML')' requires ipykernel package.\n",
            "\u001b[1;31mRun the following command to install 'ipykernel' into the Python environment. \n",
            "\u001b[1;31mCommand: 'conda install -n ML ipykernel --update-deps --force-reinstall'"
          ]
        }
      ],
      "source": [
        "from sklearn.metrics import accuracy_score, classification_report, confusion_matrix\n",
        "import itertools\n",
        "\n",
        "def plot_confusion_matrix(cm, classes,\n",
        "                          normalize=False,\n",
        "                          title='Confusion matrix',\n",
        "                          cmap=plt.cm.Blues):\n",
        "  \"\"\"Plots the confusion matrix.\"\"\"\n",
        "  if normalize:\n",
        "    cm = cm.astype('float') / cm.sum(axis=1)[:, np.newaxis]\n",
        "    print(\"Normalized confusion matrix\")\n",
        "  else:\n",
        "    print('Confusion matrix, without normalization')\n",
        "\n",
        "  plt.imshow(cm, interpolation='nearest', cmap=cmap)\n",
        "  plt.title(title)\n",
        "  plt.colorbar()\n",
        "  tick_marks = np.arange(len(classes))\n",
        "  plt.xticks(tick_marks, classes, rotation=55)\n",
        "  plt.yticks(tick_marks, classes)\n",
        "  fmt = '.2f' if normalize else 'd'\n",
        "  thresh = cm.max() / 2.\n",
        "  for i, j in itertools.product(range(cm.shape[0]), range(cm.shape[1])):\n",
        "    plt.text(j, i, format(cm[i, j], fmt),\n",
        "              horizontalalignment=\"center\",\n",
        "              color=\"white\" if cm[i, j] > thresh else \"black\")\n",
        "\n",
        "  plt.ylabel('True label')\n",
        "  plt.xlabel('Predicted label')\n",
        "  plt.tight_layout()\n",
        "\n",
        "# Classify pose in the TEST dataset using the trained model\n",
        "y_pred = model.predict(test_x)\n",
        "\n",
        "# Convert the prediction result to class name\n",
        "y_pred_label = [class_names[i] for i in np.argmax(y_pred, axis=1)]\n",
        "y_true_label = [class_names[i] for i in np.argmax(test_y, axis=1)]\n",
        "# Plot the confusion matrix\n",
        "cm = confusion_matrix(np.argmax(test_y, axis=1), np.argmax(y_pred, axis=1))\n",
        "plot_confusion_matrix(cm,\n",
        "                      class_names,\n",
        "                      title ='Confusion Matrix of Pose Classification Model')\n",
        "\n",
        "# Print the classification report\n",
        "print('\\nClassification Report:\\n', classification_report(y_true_label,\n",
        "                                                          y_pred_label))"
      ]
    },
    {
      "cell_type": "code",
      "execution_count": null,
      "metadata": {
        "id": "L7nzWkY3OvY_"
      },
      "outputs": [
        {
          "ename": "",
          "evalue": "",
          "output_type": "error",
          "traceback": [
            "\u001b[1;31mRunning cells with 'Python 3.10.8 ('ML')' requires ipykernel package.\n",
            "\u001b[1;31mRun the following command to install 'ipykernel' into the Python environment. \n",
            "\u001b[1;31mCommand: 'conda install -n ML ipykernel --update-deps --force-reinstall'"
          ]
        }
      ],
      "source": [
        "IMAGE_PER_ROW = 3\n",
        "MAX_NO_OF_IMAGE_TO_PLOT = 10\n",
        "\n",
        "# Extract the list of incorrectly predicted poses\n",
        "false_predict = [id_in_df for id_in_df in range(len(test_y)) \\\n",
        "                if y_pred_label[id_in_df] != y_true_label[id_in_df]]\n",
        "predicted = [id_in_df for id_in_df in range(len(test_y)) \\\n",
        "                if y_pred_label[id_in_df] == y_true_label[id_in_df]]\n",
        "print(\"False pred: \", len(false_predict))\n",
        "print(\"Pred: \", len(predicted))\n",
        "if len(false_predict) > MAX_NO_OF_IMAGE_TO_PLOT:\n",
        "  false_predict = false_predict[:MAX_NO_OF_IMAGE_TO_PLOT]\n",
        "\n",
        "# Plot the incorrectly predicted images\n",
        "row_count = len(false_predict) // IMAGE_PER_ROW + 1\n",
        "fig = plt.figure(figsize=(10 * IMAGE_PER_ROW, 10 * row_count))\n",
        "for i, id_in_df in enumerate(false_predict):\n",
        "  ax = fig.add_subplot(row_count, IMAGE_PER_ROW, i + 1)\n",
        "  image_path = os.path.join('/boot/YogaPoseClassifier-main/dataset/Test',\n",
        "                            test_df.iloc[id_in_df]['file'])\n",
        "\n",
        "  image = cv2.imread(image_path)\n",
        "  plt.title(\"Predict: %s; Actual: %s\"\n",
        "            % (y_pred_label[id_in_df], y_true_label[id_in_df]))\n",
        "  plt.imshow(cv2.cvtColor(image, cv2.COLOR_BGR2RGB))\n",
        "plt.show()"
      ]
    }
  ],
  "metadata": {
    "colab": {
      "collapsed_sections": [
        "BKjqhDOVz7o-"
      ],
      "provenance": []
    },
    "kernelspec": {
      "display_name": "Python 3.10.4 ('MachineLearning')",
      "language": "python",
      "name": "python3"
    },
    "language_info": {
      "codemirror_mode": {
        "name": "ipython",
        "version": 3
      },
      "file_extension": ".py",
      "mimetype": "text/x-python",
      "name": "python",
      "nbconvert_exporter": "python",
      "pygments_lexer": "ipython3",
      "version": "3.10.8"
    },
    "vscode": {
      "interpreter": {
        "hash": "46ee0b6c7301175c84ffba450dc4ddbac263b471867139b3a823796b3a1ac9fe"
      }
    }
  },
  "nbformat": 4,
  "nbformat_minor": 0
}
